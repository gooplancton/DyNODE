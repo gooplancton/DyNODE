{
 "cells": [
  {
   "cell_type": "code",
   "execution_count": 2,
   "metadata": {},
   "outputs": [],
   "source": [
    "import torch\n",
    "from torch import nn"
   ]
  },
  {
   "cell_type": "code",
   "execution_count": 4,
   "metadata": {},
   "outputs": [],
   "source": [
    "class ActorControl(nn.Module):\n",
    "    \"\"\"Actor-control module. User provides an actor function to be called upon invocation of the forward method and whose result is then going to be appended to the state vector \"\"\"\n",
    "    def __init__(self, actor_func: callable):\n",
    "        super().__init__()\n",
    "        self.actor_func = actor_func\n",
    "\n",
    "    def forward(self, x):\n",
    "        action = self.actor_func(x)\n",
    "        return torch.cat([x, action], 1).to(x)"
   ]
  },
  {
   "attachments": {},
   "cell_type": "markdown",
   "metadata": {},
   "source": [
    "While training the world model, actor_func will just be a dummy lambda that just returns the action performed in the transition\n",
    "During inference (i.e. training the policy), it will be the best actor inference model available"
   ]
  },
  {
   "cell_type": "markdown",
   "metadata": {},
   "source": []
  }
 ],
 "metadata": {
  "kernelspec": {
   "display_name": "Python 3",
   "language": "python",
   "name": "python3"
  },
  "language_info": {
   "codemirror_mode": {
    "name": "ipython",
    "version": 3
   },
   "file_extension": ".py",
   "mimetype": "text/x-python",
   "name": "python",
   "nbconvert_exporter": "python",
   "pygments_lexer": "ipython3",
   "version": "3.7.16"
  },
  "orig_nbformat": 4,
  "vscode": {
   "interpreter": {
    "hash": "f36b05749b88d174f1ebdfd6c8985299994b0b469591f25c1b9b71377a45f226"
   }
  }
 },
 "nbformat": 4,
 "nbformat_minor": 2
}
